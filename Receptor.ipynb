{
 "metadata": {
  "language_info": {
   "codemirror_mode": {
    "name": "ipython",
    "version": 3
   },
   "file_extension": ".py",
   "mimetype": "text/x-python",
   "name": "python",
   "nbconvert_exporter": "python",
   "pygments_lexer": "ipython3",
   "version": 3
  },
  "orig_nbformat": 2
 },
 "nbformat": 4,
 "nbformat_minor": 2,
 "cells": [
  {
   "cell_type": "code",
   "execution_count": null,
   "metadata": {},
   "outputs": [],
   "source": []
  },
  {
   "cell_type": "code",
   "execution_count": null,
   "metadata": {},
   "outputs": [],
   "source": []
  },
  {
   "cell_type": "code",
   "execution_count": null,
   "metadata": {},
   "outputs": [],
   "source": [
    "def calcFFT(signal, fs):\n",
    "    # https://docs.scipy.org/doc/scipy/reference/tutorial/fftpack.html\n",
    "    #y  = np.append(signal, np.zeros(len(signal)*fs))\n",
    "    N  = len(signal)\n",
    "    T  = 1/fs\n",
    "    xf = np.linspace(-1.0/(2.0*T), 1.0/(2.0*T), N)\n",
    "    yf = fft(signal)\n",
    "    return(xf, fftshift(yf))"
   ]
  },
  {
   "cell_type": "code",
   "execution_count": null,
   "metadata": {},
   "outputs": [],
   "source": [
    "X, Y = calcFFT(y,fs)\n",
    "plt.figure()\n",
    "plt.stem(X,np.abs(Y))\n",
    "\n",
    "plt.figure()\n",
    "plt.stem(X,np.imag(Y))"
   ]
  }
 ]
}